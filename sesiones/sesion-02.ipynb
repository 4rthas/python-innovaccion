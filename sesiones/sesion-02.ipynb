{
  "nbformat": 4,
  "nbformat_minor": 0,
  "metadata": {
    "colab": {
      "name": "Sesión 2 - Python 101",
      "provenance": [],
      "private_outputs": true,
      "toc_visible": true,
      "authorship_tag": "ABX9TyPNfMKCPMMNTYjw46HgETjV",
      "include_colab_link": true
    },
    "kernelspec": {
      "name": "python3",
      "display_name": "Python 3"
    }
  },
  "cells": [
    {
      "cell_type": "markdown",
      "metadata": {
        "id": "view-in-github",
        "colab_type": "text"
      },
      "source": [
        "<a href=\"https://colab.research.google.com/github/RodolfoFerro/python-innovaccion/blob/main/sesiones/sesion-02.ipynb\" target=\"_parent\"><img src=\"https://colab.research.google.com/assets/colab-badge.svg\" alt=\"Open In Colab\"/></a>"
      ]
    },
    {
      "cell_type": "markdown",
      "metadata": {
        "id": "EXCqS7CqJRRW"
      },
      "source": [
        "# Curso de introducción a Python\n",
        "\n",
        "Curso de introducción a la programación con Python para la comunidad de **Innovacción Virtual**.\n",
        "\n",
        "Código desarrollado y documentado por **Rodolfo Ferro**, Sherpa Digital de Innovación para Microsoft México y Google Developer Expert en Machine Learning.\n",
        "\n",
        "##### **Redes:**\n",
        "- GitHub: [RodolfoFerro](https://github.com/RodolfoFerro)\n",
        "- Twitter: [FerroRodolfo](https://twitter.com/FerroRodolfo)\n",
        "- Instagram: [rodo_ferro](https://instagram.com/rodo_ferro)\n"
      ]
    },
    {
      "cell_type": "markdown",
      "metadata": {
        "id": "FiOqemeWKj16"
      },
      "source": [
        "## Contenidos\n",
        "\n",
        "1. Listas y tuplas\n",
        "2. Condicionales (pt. II)\n",
        "3. Ciclos – `for`\n",
        "4. Funciones (pt. I)"
      ]
    },
    {
      "cell_type": "markdown",
      "metadata": {
        "id": "W7VCkdc7QBUR"
      },
      "source": [
        "## Listas y tuplas\n",
        "\n",
        "Una **colección** es un conjunto de elementos que se agrupan en una sola estructura de datos de Python. De manera nativa Python tiene soporte para:\n",
        "- Listas y tuplas\n",
        "- Diccionarios y conjuntos\n",
        "- ¿Otros?\n",
        "\n",
        "#### Ejemplo:\n",
        "\n",
        "```python\n",
        "my_list = [1.0, 2.0, 3.0]\n",
        "my_tuple = (1.0, 2.0, 3.0)\n",
        "my_dict = {\n",
        "    \"day\": 6,\n",
        "    \"month\": \"August\"\n",
        "}\n",
        "```\n",
        "\n",
        "- Las listas y tuplas tienen un índice asociado.\n",
        "- Las listas y tuplas tienen una longitud (número de elementos) asociado.\n",
        "- Se peude hacer slicing.\n"
      ]
    },
    {
      "cell_type": "code",
      "metadata": {
        "id": "QCM7kbwyNrqy"
      },
      "source": [
        ""
      ],
      "execution_count": null,
      "outputs": []
    },
    {
      "cell_type": "markdown",
      "metadata": {
        "id": "OrdDGy4yQ8zu"
      },
      "source": [
        "## Condicionales (pt. II)\n",
        "\n",
        "Los condicionales los utilizaremos para validar si se cumple una o más condiciones para ejecutar cierto bloque de código, **incluso para validar si algúin dato forma parte de una colección**.\n",
        "\n",
        "#### Ejemplo:\n",
        "\n",
        "```python\n",
        ">>> 1 in [1, 2, 3, 4, 5]\n",
        "```"
      ]
    },
    {
      "cell_type": "code",
      "metadata": {
        "id": "nLUAI6CnRO-j"
      },
      "source": [
        ""
      ],
      "execution_count": null,
      "outputs": []
    },
    {
      "cell_type": "markdown",
      "metadata": {
        "id": "2G0WMrAdRTqv"
      },
      "source": [
        "## Ciclos – `for`\n",
        "\n",
        "Python tiene un ciclo basado en colecciones o en iteradores. Este tipo de ciclo itera sobre una colección de objetos, en lugar de especificar valores o condiciones numéricos, este ciclo se llama ciclo for.\n",
        "\n",
        "#### Sintaxis:\n",
        "\n",
        "```python\n",
        "for element in collection:\n",
        "    # Block of code that iterates over the collection\n",
        "```"
      ]
    },
    {
      "cell_type": "code",
      "metadata": {
        "id": "J06Q2gccRhG7"
      },
      "source": [
        ""
      ],
      "execution_count": null,
      "outputs": []
    },
    {
      "cell_type": "markdown",
      "metadata": {
        "id": "AaF2EXewRjs6"
      },
      "source": [
        "## Funciones (pt. I)\n",
        "\n",
        "La manera en la que empaquetamos procesos que ejecutan un bloque completo de código es a través de funciones, la sintaxis de Python es muy sencilla y eficiente para escribir bloques de código de forma ordenada.\n",
        "\n",
        "La mayoría de los paquetes en Python están conformados por objetos y funciones.\n",
        "\n",
        "#### Sintaxis:\n",
        "\n",
        "```python\n",
        "def function_name(arguments):\n",
        "    # Block of code\n",
        "\t# Final block of code\n",
        "\treturn something\n",
        "```"
      ]
    },
    {
      "cell_type": "code",
      "metadata": {
        "id": "6MmuhsTiRwX7"
      },
      "source": [
        ""
      ],
      "execution_count": null,
      "outputs": []
    }
  ]
}