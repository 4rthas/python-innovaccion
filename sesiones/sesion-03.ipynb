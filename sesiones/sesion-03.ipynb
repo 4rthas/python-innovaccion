{
  "nbformat": 4,
  "nbformat_minor": 0,
  "metadata": {
    "colab": {
      "name": "Sesión 3 - Python 101",
      "provenance": [],
      "private_outputs": true,
      "toc_visible": true,
      "authorship_tag": "ABX9TyN0h4d2PV0fiVwrVgaXIAkh",
      "include_colab_link": true
    },
    "kernelspec": {
      "name": "python3",
      "display_name": "Python 3"
    }
  },
  "cells": [
    {
      "cell_type": "markdown",
      "metadata": {
        "id": "view-in-github",
        "colab_type": "text"
      },
      "source": [
        "<a href=\"https://colab.research.google.com/github/RodolfoFerro/python-innovaccion/blob/main/sesiones/sesion-03.ipynb\" target=\"_parent\"><img src=\"https://colab.research.google.com/assets/colab-badge.svg\" alt=\"Open In Colab\"/></a>"
      ]
    },
    {
      "cell_type": "markdown",
      "metadata": {
        "id": "EXCqS7CqJRRW"
      },
      "source": [
        "# Curso de introducción a Python\n",
        "\n",
        "Curso de introducción a la programación con Python para la comunidad de **Innovacción Virtual**.\n",
        "\n",
        "Código desarrollado y documentado por **Rodolfo Ferro**, Sherpa Digital de Innovación para Microsoft México y Google Developer Expert en Machine Learning.\n",
        "\n",
        "##### **Redes:**\n",
        "- GitHub: [RodolfoFerro](https://github.com/RodolfoFerro)\n",
        "- Twitter: [FerroRodolfo](https://twitter.com/FerroRodolfo)\n",
        "- Instagram: [rodo_ferro](https://instagram.com/rodo_ferro)\n"
      ]
    },
    {
      "cell_type": "markdown",
      "metadata": {
        "id": "FiOqemeWKj16"
      },
      "source": [
        "## Contenidos\n",
        "\n",
        "1. Funciones (pt. II)\n",
        "2. Diccionarios\n",
        "3. Objetos web: JSON\n",
        "4. Intro a `requests`"
      ]
    },
    {
      "cell_type": "markdown",
      "metadata": {
        "id": "AaF2EXewRjs6"
      },
      "source": [
        "## Funciones (pt. II)\n",
        "\n",
        "La manera en la que empaquetamos procesos que ejecutan un bloque completo de código es a través de funciones, la sintaxis de Python es muy sencilla y eficiente para escribir bloques de código de forma ordenada.\n",
        "\n",
        "La mayoría de los paquetes en Python están conformados por objetos y funciones.\n",
        "\n",
        "#### Sintaxis:\n",
        "\n",
        "```python\n",
        "def function_name(arguments):\n",
        "    # Block of code\n",
        "\t# Final block of code\n",
        "\treturn something\n",
        "```"
      ]
    },
    {
      "cell_type": "code",
      "metadata": {
        "id": "y38RS8sAWSXP"
      },
      "source": [
        ""
      ],
      "execution_count": null,
      "outputs": []
    },
    {
      "cell_type": "markdown",
      "metadata": {
        "id": "W7VCkdc7QBUR"
      },
      "source": [
        "## Diccionarios\n",
        "\n",
        "Una **colección** es un conjunto de elementos que se agrupan en una sola estructura de datos de Python. De manera nativa Python tiene soporte para:\n",
        "- Listas y tuplas\n",
        "- Diccionarios y conjuntos\n",
        "- ¿Otros?\n",
        "\n",
        "#### Ejemplo:\n",
        "\n",
        "```python\n",
        "my_list = [1.0, 2.0, 3.0]\n",
        "my_tuple = (1.0, 2.0, 3.0)\n",
        "my_dict = {\n",
        "    \"day\": 6,\n",
        "    \"month\": \"August\"\n",
        "}\n",
        "```\n",
        "\n",
        "- Los diccionarios funcionan con llaves, en lugar de \n",
        "índices.\n",
        "- Existen funciones para extraer todos los elementos de golpe.\n"
      ]
    },
    {
      "cell_type": "code",
      "metadata": {
        "id": "QCM7kbwyNrqy"
      },
      "source": [
        ""
      ],
      "execution_count": null,
      "outputs": []
    },
    {
      "cell_type": "markdown",
      "metadata": {
        "id": "mYZoO7t3WZUD"
      },
      "source": [
        "## Objetos web: JSON\n",
        "\n",
        "**JSON**, de **J**ava**S**cript **O**bject **N**otation, es un estándar de formato para contenidos en la web. La notación describe el formato agrupado de los objetos a través de `[]` y `{}`, lo que hace que sea muy similar a trabajar con listas y diccionarios de manera conjunta.\n",
        "\n",
        "Este es un estándar muy utilizado en la actualidad para comunicar procesos y servicios a través de la web.\n",
        "\n",
        "#### Ejemplo:\n",
        "\n",
        "<center>\n",
        "    <img src=\"https://raw.githubusercontent.com/RodolfoFerro/python-innovaccion/main/assets/vision_example.png\" width=\"50%\">\n",
        "</center>\n",
        "\n",
        "```json\n",
        "[\n",
        "  {\n",
        "    \"faceId\": \"be14f796-bbdb-4e73-91e6-135bc796ac98\",\n",
        "    \"faceRectangle\": {\n",
        "      \"top\": 76,\n",
        "      \"left\": 446,\n",
        "      \"width\": 226,\n",
        "      \"height\": 284\n",
        "    },\n",
        "    \"faceAttributes\": null,\n",
        "    \"faceLandmarks\": null\n",
        "  }\n",
        "]\n",
        "```"
      ]
    },
    {
      "cell_type": "markdown",
      "metadata": {
        "id": "VpBp-WYVYIwq"
      },
      "source": [
        "Hagamos un breve repaso de cómo utilizar diccionarios y listas con este ejemplo de respuesta en formato JSON..."
      ]
    },
    {
      "cell_type": "code",
      "metadata": {
        "id": "6MmuhsTiRwX7"
      },
      "source": [
        ""
      ],
      "execution_count": null,
      "outputs": []
    },
    {
      "cell_type": "markdown",
      "metadata": {
        "id": "1vMTiQcpYQzE"
      },
      "source": [
        "## Intro a `requests`\n",
        "\n"
      ]
    },
    {
      "cell_type": "code",
      "metadata": {
        "id": "Q60mJMzWYVRa"
      },
      "source": [
        ""
      ],
      "execution_count": null,
      "outputs": []
    }
  ]
}