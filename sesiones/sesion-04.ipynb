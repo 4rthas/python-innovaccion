{
  "nbformat": 4,
  "nbformat_minor": 0,
  "metadata": {
    "colab": {
      "name": "Sesión 4 - Python 101",
      "provenance": [],
      "private_outputs": true,
      "authorship_tag": "ABX9TyMT/Ynb2jJJTIRHQA/9VBn0",
      "include_colab_link": true
    },
    "kernelspec": {
      "name": "python3",
      "display_name": "Python 3"
    }
  },
  "cells": [
    {
      "cell_type": "markdown",
      "metadata": {
        "id": "view-in-github",
        "colab_type": "text"
      },
      "source": [
        "<a href=\"https://colab.research.google.com/github/RodolfoFerro/python-innovaccion/blob/main/sesiones/sesion-04.ipynb\" target=\"_parent\"><img src=\"https://colab.research.google.com/assets/colab-badge.svg\" alt=\"Open In Colab\"/></a>"
      ]
    },
    {
      "cell_type": "markdown",
      "metadata": {
        "id": "ViIoelz8Sion"
      },
      "source": [
        "Instalación del paquete de Microsoft para consumir los servicios cognitivos de visión.\n"
      ]
    },
    {
      "cell_type": "code",
      "metadata": {
        "id": "Mqsx1Um8N8sx"
      },
      "source": [
        "!pip install --upgrade azure-cognitiveservices-vision-computervision -q"
      ],
      "execution_count": null,
      "outputs": []
    },
    {
      "cell_type": "markdown",
      "metadata": {
        "id": "pLmznzPkSwNi"
      },
      "source": [
        "Importamos las bibliotecas de funciones que vamos a utilizar."
      ]
    },
    {
      "cell_type": "code",
      "metadata": {
        "id": "4sLLtA_tS1Vb"
      },
      "source": [
        "# Funcionalidades para conectarnos con nuestro recurso de Cognitive Services\n",
        "# y validar nuestro acceso.\n",
        "from azure.cognitiveservices.vision.computervision import ComputerVisionClient\n",
        "from azure.cognitiveservices.vision.computervision.models import OperationStatusCodes\n",
        "from azure.cognitiveservices.vision.computervision.models import VisualFeatureTypes\n",
        "from msrest.authentication import CognitiveServicesCredentials\n",
        "\n",
        "# Paquetería de Python para acceder a recursos de la máquina.\n",
        "from array import array\n",
        "import os\n",
        "from PIL import Image # Este es para trabajar con imágenes.\n",
        "import sys\n",
        "import time"
      ],
      "execution_count": null,
      "outputs": []
    },
    {
      "cell_type": "markdown",
      "metadata": {
        "id": "GMSrLyeFUAEk"
      },
      "source": [
        "Lo primero es que necesitamos autenticar nuestro acceso para consumir el recurso."
      ]
    },
    {
      "cell_type": "code",
      "metadata": {
        "id": "tISFcNDoTyO6"
      },
      "source": [
        "endpoint = \"\"\n",
        "subscription_key = \"\"\n",
        "\n",
        "computervision_client = ComputerVisionClient(endpoint, CognitiveServicesCredentials(subscription_key))"
      ],
      "execution_count": null,
      "outputs": []
    },
    {
      "cell_type": "markdown",
      "metadata": {
        "id": "pfbV8H-YUyDy"
      },
      "source": [
        "Procedemos a consumir el servicio para analizar una imagen."
      ]
    },
    {
      "cell_type": "code",
      "metadata": {
        "id": "1EXLvN_OUnJq"
      },
      "source": [
        "# Ponemos un URL de la imagen que vamos a analizar\n",
        "remote_image_url = \"https://www.eloccidental.com.mx/incoming/7djvfi-talent-land_dia3.jpg/ALTERNATES/LANDSCAPE_400/Talent%20land_d%C3%ADa3.jpg\""
      ],
      "execution_count": null,
      "outputs": []
    },
    {
      "cell_type": "code",
      "metadata": {
        "id": "UGWciPa1VoLZ"
      },
      "source": [
        "# Descripción de los contenidos de una imagen\n",
        "print(\"===== Vamos a describir el contenido de la imagen :D =====\")\n",
        "\n",
        "\n",
        "# Consumimos el servicio de Computer Vision\n",
        "description_results = computervision_client.describe_image(remote_image_url)"
      ],
      "execution_count": null,
      "outputs": []
    },
    {
      "cell_type": "code",
      "metadata": {
        "id": "-Q_jY7jrYqgX"
      },
      "source": [
        "from pprint import pprint\n",
        "\n",
        "pprint(description_results.as_dict())"
      ],
      "execution_count": null,
      "outputs": []
    },
    {
      "cell_type": "code",
      "metadata": {
        "id": "ljlUJ1fdWRRi"
      },
      "source": [
        "# Jala las descripciones de la respuesta\n",
        "print(\"Descripción de la imagen: \")\n",
        "if (len(description_results.captions) == 0):\n",
        "    print(\"No description detected.\")\n",
        "else:\n",
        "    for caption in description_results.captions:\n",
        "        print(\"'{}' with confidence {:.2f}%\".format(caption.text, caption.confidence * 100))"
      ],
      "execution_count": null,
      "outputs": []
    },
    {
      "cell_type": "code",
      "metadata": {
        "id": "M7aN6zKZZpPP"
      },
      "source": [
        "print(\"Descripción de la imagen: \")\n",
        "if len(description_results.as_dict()['captions']) > 0:\n",
        "    print(\"Encontré algo:\")\n",
        "    for elemento in description_results.as_dict()['captions']:\n",
        "        print(elemento[\"text\"])\n",
        "else:\n",
        "    print(\"No encontré nada.\")"
      ],
      "execution_count": null,
      "outputs": []
    },
    {
      "cell_type": "code",
      "metadata": {
        "id": "CDkTcdozZzTF"
      },
      "source": [
        ""
      ],
      "execution_count": null,
      "outputs": []
    }
  ]
}